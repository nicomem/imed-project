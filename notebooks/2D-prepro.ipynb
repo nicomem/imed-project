{
  "nbformat": 4,
  "nbformat_minor": 0,
  "metadata": {
    "colab": {
      "name": "2D-prepro.ipynb",
      "provenance": []
    }
  },
  "cells": [
    {
      "cell_type": "code",
      "metadata": {
        "id": "DaxlvhwgeCX-"
      },
      "source": [
        "# 3rd-party imports\n",
        "import numpy as np\n",
        "import nibabel as nib\n",
        "import tensorflow as tf\n",
        "import tensorflow.keras as k\n",
        "import matplotlib.pyplot as plt"
      ],
      "execution_count": null,
      "outputs": []
    },
    {
      "cell_type": "code",
      "metadata": {
        "id": "Yv7IqAene14f"
      },
      "source": [
        "import os\r\n",
        "if not os.path.isdir(\"../notebooks\") and not os.path.isdir(\"imed-project\"):\r\n",
        "  !git clone https://github.com/nicomem/imed-project.git\r\n",
        "  %cd imed-project/notebooks"
      ],
      "execution_count": null,
      "outputs": []
    },
    {
      "cell_type": "markdown",
      "metadata": {
        "id": "2npk4YU6vgaC"
      },
      "source": [
        "## Installing Requirements"
      ]
    },
    {
      "cell_type": "code",
      "metadata": {
        "id": "XvZKYyWKflV-"
      },
      "source": [
        "%cd ..\r\n",
        "!pip install -r requirements.txt\r\n",
        "!pip install gdown"
      ],
      "execution_count": null,
      "outputs": []
    },
    {
      "cell_type": "code",
      "metadata": {
        "id": "yLPP4R5tpwbS"
      },
      "source": [
        "import gdown\r\n",
        "if not os.path.exists(\"data.zip\"):\r\n",
        "  gdown.download(\"https://drive.google.com/uc?id=1onHHWIhkhN5xYMit0rhhtVXlJrAlzCit\", \"data.zip\", quiet=False)"
      ],
      "execution_count": null,
      "outputs": []
    },
    {
      "cell_type": "code",
      "metadata": {
        "id": "Lr7sLY9Su2oX"
      },
      "source": [
        "if not os.path.isdir(\"data\"):\r\n",
        "  !unzip data.zip"
      ],
      "execution_count": null,
      "outputs": []
    },
    {
      "cell_type": "code",
      "metadata": {
        "id": "z-UpwoU5gS_Y"
      },
      "source": [
        "%cd notebooks/\r\n",
        "!ls"
      ],
      "execution_count": null,
      "outputs": []
    }
  ]
}