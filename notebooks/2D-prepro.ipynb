{
 "cells": [
  {
   "cell_type": "markdown",
   "metadata": {
    "id": "fVCCkH4heCX1"
   },
   "source": [
    "# 2D model with preprocessing"
   ]
  },
  {
   "cell_type": "markdown",
   "metadata": {
    "id": "axYPG6ITboZ3"
   },
   "source": [
    "## Colab integration"
   ]
  },
  {
   "cell_type": "code",
   "execution_count": null,
   "metadata": {
    "colab": {
     "base_uri": "https://localhost:8080/"
    },
    "id": "Qk33XTWRboZ4",
    "outputId": "810a6f13-6b5a-47ba-bc5b-c60ebef71cb6"
   },
   "outputs": [],
   "source": [
    "RUNNING_IN_COLAB = True\n",
    "Branch = \"new-unet\"\n",
    "\n",
    "if RUNNING_IN_COLAB:\n",
    "    REPO_URL = 'https://github.com/nicomem/imed-project.git'\n",
    "    REPO_DIR = 'imed-project'\n",
    "    DATA_URL = 'https://drive.google.com/uc?id=1onHHWIhkhN5xYMit0rhhtVXlJrAlzCit'\n",
    "    \n",
    "    from pathlib import Path\n",
    "\n",
    "    %cd /content\n",
    "\n",
    "    # Download the repository\n",
    "    if not Path(REPO_DIR).is_dir():\n",
    "        !git clone {REPO_URL} {REPO_DIR}\n",
    "    \n",
    "    %cd {REPO_DIR}\n",
    "    !git checkout $Branch\n",
    "    # Install requirements\n",
    "    !pip install -r requirements.txt | grep -v 'Requirement already satisfied'\n",
    "    !pip install gdown | grep -v 'Requirement already satisfied'\n",
    "    \n",
    "    import gdown\n",
    "    if not Path('data.zip').is_file():\n",
    "        gdown.download(DATA_URL, 'data.zip', quiet=False)\n",
    "    \n",
    "    if not Path('data').is_dir():\n",
    "        !unzip data.zip\n",
    "    \n",
    "    %cd notebooks\n",
    "    !ls"
   ]
  },
  {
   "cell_type": "markdown",
   "metadata": {
    "id": "5hu8S_JzboaB"
   },
   "source": [
    "## Imports"
   ]
  },
  {
   "cell_type": "code",
   "execution_count": null,
   "metadata": {
    "colab": {
     "base_uri": "https://localhost:8080/"
    },
    "id": "DaxlvhwgeCX-",
    "outputId": "215bf7e2-f1ae-4c78-959b-464083cbfb75"
   },
   "outputs": [],
   "source": [
    "# 3rd-party imports\n",
    "import numpy as np\n",
    "import nibabel as nib\n",
    "import tensorflow as tf\n",
    "import tensorflow.keras as k\n",
    "import matplotlib.pyplot as plt\n",
    "import keras_unet\n",
    "from tensorflow import keras"
   ]
  },
  {
   "cell_type": "markdown",
   "metadata": {
    "id": "ijoAUa1veCX_"
   },
   "source": [
    "## Get dataset & split train/test"
   ]
  },
  {
   "cell_type": "code",
   "execution_count": null,
   "metadata": {
    "colab": {
     "base_uri": "https://localhost:8080/"
    },
    "id": "Vgs0mGhDeCX_",
    "outputId": "bfc62220-f58c-4f3f-d318-2e040b673c7e"
   },
   "outputs": [],
   "source": [
    "from utils.load_data import get_dataset, SlicesSequence, CachedSlicesSequence\n",
    "\n",
    "train_nib, val_nib = get_dataset('../data', verbose=True)"
   ]
  },
  {
   "cell_type": "markdown",
   "metadata": {
    "id": "Um7OQh3JeCYB"
   },
   "source": [
    "## Load data"
   ]
  },
  {
   "cell_type": "code",
   "execution_count": null,
   "metadata": {
    "colab": {
     "base_uri": "https://localhost:8080/"
    },
    "id": "ZNUkeZpaboaE",
    "outputId": "eca6bd65-38c2-40c5-dd8a-bf383facf2f5"
   },
   "outputs": [],
   "source": [
    "batch_size = 32\n",
    "shuffle = True\n",
    "preprocess = True\n",
    "target_height = 256\n",
    "target_width = 256\n",
    "img_size = (target_height, target_width)\n",
    "num_classes = 1\n",
    "\n",
    "train_seq_uncached = SlicesSequence(train_nib,\n",
    "                                    target_height, target_width, \n",
    "                                    batch_size, shuffle)\n",
    "train_seq = CachedSlicesSequence(train_seq_uncached, batch_size, shuffle, preprocess)\n",
    "len(train_seq)"
   ]
  },
  {
   "cell_type": "code",
   "execution_count": null,
   "metadata": {
    "colab": {
     "base_uri": "https://localhost:8080/"
    },
    "id": "R9ntqbh4ATXZ",
    "outputId": "468ec384-b9ca-483e-93ac-0315a528f87e"
   },
   "outputs": [],
   "source": [
    "val_seq_uncached = SlicesSequence(val_nib,\n",
    "                                  target_height, target_width,\n",
    "                                  batch_size, shuffle)\n",
    "val_seq = CachedSlicesSequence(val_seq_uncached, batch_size, shuffle, preprocess)\n",
    "len(val_seq)"
   ]
  },
  {
   "cell_type": "markdown",
   "metadata": {
    "id": "PZvmEKg7AWnr"
   },
   "source": [
    "## Prepare the model"
   ]
  },
  {
   "cell_type": "code",
   "execution_count": null,
   "metadata": {
    "id": "mO3oilpOHun8"
   },
   "outputs": [],
   "source": [
    "from keras_unet.models import custom_unet\n",
    "\n",
    "# Beware 3 channels because of preprocessing\n",
    "input_shape = (target_height, target_width, 3)\n",
    "keras.backend.clear_session()\n",
    "model = custom_unet(\n",
    "    input_shape,\n",
    "    num_classes=1,\n",
    "    use_batch_norm=True,\n",
    "    filters=32,\n",
    "    num_layers=3,\n",
    "    #dropout=0.3,\n",
    "    output_activation='sigmoid'\n",
    ")"
   ]
  },
  {
   "cell_type": "code",
   "execution_count": null,
   "metadata": {
    "id": "5a03nan1YTSp"
   },
   "outputs": [],
   "source": [
    "from keras import backend as K\r\n",
    "\r\n",
    "def dice_coef(y_true, y_pred, smooth=1):\r\n",
    "    \"\"\"\r\n",
    "    Dice = (2*|X & Y|)/ (|X|+ |Y|)\r\n",
    "         =  2*sum(|A*B|)/(sum(A^2)+sum(B^2))\r\n",
    "    ref: https://arxiv.org/pdf/1606.04797v1.pdf\r\n",
    "    \"\"\"\r\n",
    "    intersection = K.sum(K.abs(y_true * y_pred), axis=-1)\r\n",
    "    return (2. * intersection + smooth) / (K.sum(K.square(y_true),-1) + K.sum(K.square(y_pred),-1) + smooth)\r\n",
    "\r\n",
    "def dice_coef_loss(y_true, y_pred):\r\n",
    "    return 1-dice_coef(y_true, y_pred)"
   ]
  },
  {
   "cell_type": "code",
   "execution_count": null,
   "metadata": {
    "id": "MkiK3H_bHun8"
   },
   "outputs": [],
   "source": [
    "from keras.callbacks import ModelCheckpoint\n",
    "\n",
    "model_filename = 'segm_model_prepro_v0.h5'\n",
    "callback_checkpoint = ModelCheckpoint(\n",
    "    model_filename, \n",
    "    verbose=1, \n",
    "    monitor='val_loss', \n",
    "    save_best_only=True,\n",
    ")"
   ]
  },
  {
   "cell_type": "code",
   "execution_count": null,
   "metadata": {
    "id": "-_0IECrWHun8"
   },
   "outputs": [],
   "source": [
    "model.compile(\n",
    "    optimizer=tf.keras.optimizers.Adam(learning_rate=3e-4),\n",
    "    loss=dice_coef_loss,\n",
    "    #loss=\"binary_crossentropy\",\n",
    "    metrics=[tf.keras.metrics.Recall(), tf.keras.metrics.Precision()]\n",
    ")"
   ]
  },
  {
   "cell_type": "code",
   "execution_count": null,
   "metadata": {
    "id": "47VTRAvPXhH8"
   },
   "outputs": [],
   "source": [
    "train_seq.Y = train_seq.Y.astype(np.float32)\r\n",
    "val_seq.Y = val_seq.Y.astype(np.float32)"
   ]
  },
  {
   "cell_type": "code",
   "execution_count": null,
   "metadata": {
    "colab": {
     "base_uri": "https://localhost:8080/"
    },
    "id": "x9uSjbbwHun9",
    "outputId": "26d4aa31-3852-42b3-f344-03f62f7fed78"
   },
   "outputs": [],
   "source": [
    "history = model.fit(train_seq, epochs=15, validation_data=val_seq, callbacks=[callback_checkpoint])"
   ]
  },
  {
   "cell_type": "markdown",
   "metadata": {
    "id": "eM3PuEGdHun-"
   },
   "source": [
    "## Check the results"
   ]
  },
  {
   "cell_type": "code",
   "execution_count": null,
   "metadata": {
    "colab": {
     "base_uri": "https://localhost:8080/",
     "height": 265
    },
    "id": "w2xRJ6VeHun_",
    "outputId": "762cf026-d193-4ff5-90d8-83a83cad75c4"
   },
   "outputs": [],
   "source": [
    "def rolling_average(x, w):\n",
    "    return np.convolve(x, np.ones(w), 'valid') / w\n",
    "\n",
    "ravg_w = 1\n",
    "\n",
    "plt.plot(rolling_average(history.history['loss'], ravg_w), label='train')\n",
    "\n",
    "plt.plot(rolling_average(history.history['val_loss'], ravg_w), label='val')\n",
    "\n",
    "plt.legend()\n",
    "plt.show()"
   ]
  },
  {
   "cell_type": "code",
   "execution_count": null,
   "metadata": {
    "colab": {
     "base_uri": "https://localhost:8080/"
    },
    "id": "_jcjWnYwHun_",
    "outputId": "2560fb24-ba8c-4d0f-9cce-5a0b0f135de7"
   },
   "outputs": [],
   "source": [
    "Y_pred = model.predict(val_seq.X)\n",
    "print(Y_pred.shape)"
   ]
  },
  {
   "cell_type": "code",
   "execution_count": null,
   "metadata": {
    "colab": {
     "base_uri": "https://localhost:8080/",
     "height": 1000
    },
    "id": "95YMWn1dHun_",
    "outputId": "bf25f748-d869-4381-dbea-0ccdfc9ed01d"
   },
   "outputs": [],
   "source": [
    "N = 10\n",
    "i_samples = np.random.choice(np.arange(0, Y_pred.shape[0]), size=N, replace=False)\n",
    "\n",
    "plt.figure(figsize=(16,16))\n",
    "for i, i_sample in enumerate(i_samples):\n",
    "  x = val_seq.X[i_sample]\n",
    "  y = val_seq.Y[i_sample]\n",
    "  print(i_sample)\n",
    "  plt.subplot(N, 4, 4*i+1)\n",
    "  plt.imshow(x[...,0])\n",
    "\n",
    "  plt.subplot(N, 4, 4*i+2)\n",
    "  plt.imshow(x[...,1])\n",
    "\n",
    "  plt.subplot(N, 4, 4*i+3)\n",
    "  plt.imshow(np.reshape(y, (target_height, target_width)))\n",
    "\n",
    "  plt.subplot(N, 4, 4*i+4)\n",
    "  plt.imshow(np.reshape(Y_pred[i_sample], (target_height, target_width)))"
   ]
  }
 ],
 "metadata": {
  "accelerator": "GPU",
  "colab": {
   "name": "2D-prepro.ipynb",
   "provenance": []
  },
  "kernelspec": {
   "display_name": "Python 3",
   "language": "python",
   "name": "python3"
  },
  "language_info": {
   "codemirror_mode": {
    "name": "ipython",
    "version": 3
   },
   "file_extension": ".py",
   "mimetype": "text/x-python",
   "name": "python",
   "nbconvert_exporter": "python",
   "pygments_lexer": "ipython3",
   "version": "3.8.1"
  }
 },
 "nbformat": 4,
 "nbformat_minor": 0
}
