{
  "nbformat": 4,
  "nbformat_minor": 0,
  "metadata": {
    "kernelspec": {
      "name": "python3",
      "display_name": "Python 3.8.1 64-bit",
      "metadata": {
        "interpreter": {
          "hash": "06a81b2537a094eac0cc951c7dda82980cbe242fb46724b452fcdc785c929e45"
        }
      }
    },
    "colab": {
      "name": "3D-no-prepro.ipynb",
      "provenance": []
    },
    "accelerator": "GPU"
  },
  "cells": [
    {
      "cell_type": "code",
      "metadata": {
        "id": "KCqV5rhER9Nj"
      },
      "source": [
        "RUNNING_IN_COLAB = True\n",
        "\n",
        "if RUNNING_IN_COLAB:\n",
        "    REPO_URL = 'https://github.com/nicomem/imed-project.git'\n",
        "    BRANCH   = '3d-seq'\n",
        "    REPO_DIR = 'imed-project'\n",
        "    DATA_URL = 'https://drive.google.com/uc?id=1onHHWIhkhN5xYMit0rhhtVXlJrAlzCit'\n",
        "    \n",
        "    from pathlib import Path\n",
        "\n",
        "    %cd /content\n",
        "\n",
        "    # Download the repository\n",
        "    if not Path(REPO_DIR).is_dir():\n",
        "        !git clone --branch {BRANCH} --depth=1 -- {REPO_URL} {REPO_DIR}\n",
        "    \n",
        "    %cd {REPO_DIR}\n",
        "\n",
        "    # Install requirements\n",
        "    !pip install -r requirements.txt | grep -v 'Requirement already satisfied'\n",
        "    !pip install gdown | grep -v 'Requirement already satisfied'\n",
        "    \n",
        "    import gdown\n",
        "    if not Path('data.zip').is_file():\n",
        "        gdown.download(DATA_URL, 'data.zip', quiet=False)\n",
        "    \n",
        "    if not Path('data').is_dir():\n",
        "        !unzip -q -- data.zip\n",
        "    \n",
        "    %cd notebooks\n",
        "    %ls"
      ],
      "execution_count": null,
      "outputs": []
    },
    {
      "cell_type": "markdown",
      "metadata": {
        "id": "2npk4YU6vgaC"
      },
      "source": [
        "## Imports"
      ]
    },
    {
      "cell_type": "code",
      "metadata": {
        "id": "gOzWsz8bR9Nn"
      },
      "source": [
        "# 3rd-party imports\n",
        "import numpy as np\n",
        "import nibabel as nib\n",
        "import tensorflow as tf\n",
        "import matplotlib.pyplot as plt\n",
        "import keras_unet"
      ],
      "execution_count": null,
      "outputs": []
    },
    {
      "cell_type": "markdown",
      "metadata": {
        "id": "DjROhH_0R9No"
      },
      "source": [
        "## Get dataset & split train/test"
      ]
    },
    {
      "cell_type": "code",
      "metadata": {
        "id": "w-qs5OVdR9No"
      },
      "source": [
        "from utils.load_data import get_dataset, SlicesSequence, CachedSlices3DSequence\n",
        "\n",
        "train_nib, val_nib, test_nib = get_dataset('../data', verbose=True)\n",
        "\n",
        "print('\\n{...}_nib keys:', train_nib.keys())\n",
        "print('train_nib:', [len(v) for v in train_nib.values()])\n",
        "print('val_nib:',   [len(v) for v in val_nib.values()])\n",
        "print('test_nib:',  [len(v) for v in test_nib.values()])"
      ],
      "execution_count": null,
      "outputs": []
    },
    {
      "cell_type": "markdown",
      "metadata": {
        "id": "OmIsYJJgR9Np"
      },
      "source": [
        "## Load train & analyze"
      ]
    },
    {
      "cell_type": "code",
      "metadata": {
        "id": "naBmKn5TR9Nq"
      },
      "source": [
        "batch_size = 16\n",
        "shuffle = True\n",
        "target_height = 256\n",
        "target_width = 256\n",
        "img_size = (target_height, target_width)\n",
        "num_classes = 1\n",
        "num_channels_per_slice = 2\n",
        "radius_3D = 1\n",
        "total_num_channels = (radius_3D * 2 + 1) * num_channels_per_slice # both sides (*2) + origin times channels per slice\n",
        "\n",
        "train_seq_uncached = SlicesSequence(train_nib,\n",
        "                                    target_height=target_height,\n",
        "                                    target_width=target_width, \n",
        "                                    batch_size=batch_size,\n",
        "                                    shuffle=shuffle,\n",
        "                                    slices3D_radius=radius_3D)\n",
        "train_seq = CachedSlices3DSequence(train_seq_uncached)\n",
        "\n",
        "print('Number of batch:', len(train_seq))\n",
        "print('Total number of slices:', len(train_seq.Y))"
      ],
      "execution_count": null,
      "outputs": []
    },
    {
      "cell_type": "code",
      "metadata": {
        "id": "hPOgwGBUR9Nq"
      },
      "source": [
        "total_num_channels"
      ],
      "execution_count": null,
      "outputs": []
    },
    {
      "cell_type": "code",
      "metadata": {
        "id": "vSUlYWYSR9Nr"
      },
      "source": [
        "train_seq.__getitem__(0)[0].shape,train_seq.__getitem__(0)[1].shape"
      ],
      "execution_count": null,
      "outputs": []
    },
    {
      "cell_type": "code",
      "metadata": {
        "id": "ixVaT8TlR9Nr"
      },
      "source": [
        "train_seq.Y[0].shape"
      ],
      "execution_count": null,
      "outputs": []
    },
    {
      "cell_type": "code",
      "metadata": {
        "id": "B4QWUBmLR9Nr"
      },
      "source": [
        "# Plotting a random slice from 2 batchs\n",
        "\n",
        "plt.figure(figsize=(9, 6))\n",
        "i_data = 12\n",
        "\n",
        "x,y = train_seq[140]\n",
        "plt.subplot(3, 3, 1); plt.imshow(x[i_data,...,0])\n",
        "plt.subplot(3, 3, 2); plt.imshow(x[i_data,...,1])\n",
        "plt.subplot(3, 3, 3); plt.imshow(x[i_data,...,2])\n",
        "plt.subplot(3, 3, 4); plt.imshow(x[i_data,...,3])\n",
        "plt.subplot(3, 3, 5); plt.imshow(x[i_data,...,4])\n",
        "plt.subplot(3, 3, 6); plt.imshow(x[i_data,...,5])\n",
        "plt.subplot(3, 3, 7); plt.imshow(y[i_data])"
      ],
      "execution_count": null,
      "outputs": []
    },
    {
      "cell_type": "code",
      "metadata": {
        "id": "Ga97VgGNR9Ns"
      },
      "source": [
        "from keras_unet.models import custom_unet\n",
        "\n",
        "input_shape = (target_height, target_width, total_num_channels)\n",
        "tf.keras.backend.clear_session()\n",
        "model = custom_unet(\n",
        "    input_shape,\n",
        "    num_classes=1,\n",
        "    use_batch_norm=True,\n",
        "    filters=32,\n",
        "    num_layers=3,\n",
        "    dropout=0.1,\n",
        "    output_activation='sigmoid'\n",
        ")"
      ],
      "execution_count": null,
      "outputs": []
    },
    {
      "cell_type": "markdown",
      "metadata": {
        "id": "FweKoGj7R9Ns"
      },
      "source": [
        "## Train the model"
      ]
    },
    {
      "cell_type": "code",
      "metadata": {
        "id": "OyDRJX-wR9Ns"
      },
      "source": [
        "val_seq_uncached = SlicesSequence(val_nib,\n",
        "                                  target_height=target_height,\n",
        "                                  target_width=target_width, \n",
        "                                  batch_size=batch_size,\n",
        "                                  shuffle=shuffle,\n",
        "                                  slices3D_radius=radius_3D)\n",
        "val_seq = CachedSlices3DSequence(val_seq_uncached)\n",
        "len(val_seq)"
      ],
      "execution_count": null,
      "outputs": []
    },
    {
      "cell_type": "code",
      "metadata": {
        "id": "ASe0jHf7R9Nt"
      },
      "source": [
        "from keras.callbacks import ModelCheckpoint\n",
        "\n",
        "checkpoint_filename = 'segm_model_v0.h5'\n",
        "callback_checkpoint = ModelCheckpoint(\n",
        "    checkpoint_filename, \n",
        "    verbose=1, \n",
        "    monitor='val_loss', \n",
        "    save_best_only=True,\n",
        ")"
      ],
      "execution_count": null,
      "outputs": []
    },
    {
      "cell_type": "code",
      "metadata": {
        "id": "Kf-zpFr9R9Nt"
      },
      "source": [
        "model.compile(\n",
        "    optimizer=tf.keras.optimizers.Adam(learning_rate=3e-4),\n",
        "    loss=\"binary_crossentropy\",\n",
        "    metrics=[tf.keras.metrics.Recall(name='recall'),\n",
        "             tf.keras.metrics.Precision(name='precision')]\n",
        ")"
      ],
      "execution_count": null,
      "outputs": []
    },
    {
      "cell_type": "code",
      "metadata": {
        "id": "QrWXEMhXR9Nt"
      },
      "source": [
        "history = model.fit(\n",
        "    train_seq,\n",
        "    epochs=40,\n",
        "    validation_data=val_seq,\n",
        "    #batch_size=32,\n",
        "    shuffle=True,\n",
        "    callbacks=[callback_checkpoint]\n",
        ")"
      ],
      "execution_count": null,
      "outputs": []
    },
    {
      "cell_type": "markdown",
      "metadata": {
        "id": "jHaeU8XaR9Nu"
      },
      "source": [
        "## Results"
      ]
    },
    {
      "cell_type": "code",
      "metadata": {
        "id": "_YPLByvAR9Nu"
      },
      "source": [
        "# Display the learning curves with a rolling average (to make the plots easier to analyse)\n",
        "\n",
        "def rolling_average(x, w):\n",
        "    return np.convolve(x, np.ones(w), 'valid') / w\n",
        "\n",
        "ravg_w = 3\n",
        "\n",
        "plot_cols = ['loss', 'precision', 'recall']\n",
        "plt.figure(figsize=(20,6))\n",
        "for i, col in enumerate(plot_cols):\n",
        "    plt.subplot(1, len(plot_cols), i+1)\n",
        "\n",
        "    plt.plot(rolling_average(history.history[col], ravg_w), label='train')\n",
        "    plt.plot(rolling_average(history.history[f'val_{col}'], ravg_w), label='val')\n",
        "\n",
        "    plt.title(col)\n",
        "    plt.xlabel('Epoch')\n",
        "    plt.ylabel(col)\n",
        "    plt.legend()\n",
        "\n",
        "plt.show()"
      ],
      "execution_count": null,
      "outputs": []
    },
    {
      "cell_type": "markdown",
      "metadata": {
        "id": "7u754VQOR9Nu"
      },
      "source": [
        "## Evaluating the model"
      ]
    },
    {
      "cell_type": "code",
      "metadata": {
        "id": "RHegKQfdR9Nu"
      },
      "source": [
        "def check_model_with_set(model, seq, N = 10, bool_threshold = None):\n",
        "    '''\n",
        "    Display the model results on a random sample of data.\n",
        "    \n",
        "    Parameters:\n",
        "    -----------\n",
        "    model:\n",
        "        The trained model.\n",
        "    seq: SlicesSequence\n",
        "        The dataset to check.\n",
        "    N: int\n",
        "        The number of samples to check.\n",
        "    bool_threshold: Option[int]\n",
        "        The threshold to apply to the model results.\n",
        "        Must be in the range: [0.0, 1.0].\n",
        "        Set to None to display the raw results (probabilities).\n",
        "    '''\n",
        "    \n",
        "    # Pick a random sample of the dataset\n",
        "    i_samples = np.random.choice(np.arange(0, len(seq.X)), size=N, replace=False)\n",
        "    \n",
        "    # Predict the samples\n",
        "    X = seq.X[i_samples]\n",
        "    Y_gt = seq.Y[i_samples]\n",
        "    Y_pred = model.predict(X)\n",
        "\n",
        "    if bool_threshold:\n",
        "        Y_pred = (Y_pred > bool_threshold).astype(np.bool)\n",
        "\n",
        "    # Helper function to reshape the images, in case there are more single dimensions\n",
        "    reshape_img = lambda img: np.reshape(img, (target_height, target_width))\n",
        "        \n",
        "    # Compare some predictions to the ground truth\n",
        "    plt.figure(figsize=(20,5*N))\n",
        "    for i in range(N):\n",
        "        x_T1    = reshape_img(X[i,...,0])\n",
        "        x_FLAIR = reshape_img(X[i,...,1])\n",
        "        y_gt    = reshape_img(Y_gt[i])\n",
        "        y_pred  = reshape_img(Y_pred[i])\n",
        "\n",
        "        plt.subplot(N, 4, 4*i+1)\n",
        "        plt.imshow(x_T1)\n",
        "        plt.title('T1')\n",
        "\n",
        "        plt.subplot(N, 4, 4*i+2)\n",
        "        plt.imshow(x_FLAIR)\n",
        "        plt.title('FLAIR')\n",
        "\n",
        "        plt.subplot(N, 4, 4*i+3)\n",
        "        plt.imshow(y_gt)\n",
        "        plt.title('Ground Truth (wmh)')\n",
        "\n",
        "        plt.subplot(N, 4, 4*i+4)\n",
        "        plt.imshow(y_pred)\n",
        "        plt.title('Predicted (wmh)')"
      ],
      "execution_count": null,
      "outputs": []
    },
    {
      "cell_type": "code",
      "metadata": {
        "id": "19KCz-W_R9Nv"
      },
      "source": [
        "# Fetch the test set\n",
        "test_seq_uncached = SlicesSequence(test_nib,\n",
        "                                   target_height=target_height,\n",
        "                                   target_width=target_width, \n",
        "                                   batch_size=batch_size,\n",
        "                                   shuffle=shuffle,\n",
        "                                   slices3D_radius=radius_3D)\n",
        "test_seq = CachedSlices3DSequence(val_seq_uncached)\n",
        "print('Number of slices in test set:', len(test_seq) * batch_size)"
      ],
      "execution_count": null,
      "outputs": []
    },
    {
      "cell_type": "code",
      "metadata": {
        "id": "ExP4cJdhR9Nw"
      },
      "source": [
        "test_pred = model.predict(test_seq.X[0])"
      ],
      "execution_count": null,
      "outputs": []
    },
    {
      "cell_type": "code",
      "metadata": {
        "id": "gjsgXI8zR9Nw"
      },
      "source": [
        "precision = keras.metrics.Precision()\n",
        "precision.update_state(test_seq.Y, test_pred)\n",
        "print(f'Test Precision: {100 * precision.result().numpy():.2f}%')\n",
        "\n",
        "recall = keras.metrics.Recall()\n",
        "recall.update_state(test_seq.Y, test_pred)\n",
        "print(f'Test Recall   : {100 * recall.result().numpy():.2f}%')"
      ],
      "execution_count": null,
      "outputs": []
    },
    {
      "cell_type": "code",
      "metadata": {
        "id": "sv1YJsyiR9Nw"
      },
      "source": [
        "# check_model_with_set(model, test_seq, N=20, bool_threshold=0.5)"
      ],
      "execution_count": null,
      "outputs": []
    }
  ]
}