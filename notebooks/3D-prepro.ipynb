{
 "cells": [
  {
   "cell_type": "code",
   "execution_count": null,
   "metadata": {},
   "outputs": [],
   "source": [
    "# 3rd-party imports\n",
    "import numpy as np\n",
    "import nibabel as nib\n",
    "import tensorflow as tf\n",
    "import tensorflow.keras as k\n",
    "import matplotlib.pyplot as plt"
   ]
  },
  {
   "cell_type": "code",
   "execution_count": null,
   "metadata": {},
   "outputs": [],
   "source": [
    "import os\r\n",
    "if not os.path.isdir(\"../notebooks\") and not os.path.isdir(\"imed-project\"):\r\n",
    "  !git clone https://github.com/nicomem/imed-project.git\r\n",
    "  %cd imed-project/notebooks"
   ]
  },
  {
   "cell_type": "markdown",
   "metadata": {
    "id": "2npk4YU6vgaC"
   },
   "source": [
    "## Installing Requirements"
   ]
  },
  {
   "cell_type": "code",
   "execution_count": null,
   "metadata": {},
   "outputs": [],
   "source": [
    "%cd ..\r\n",
    "!pip install -r requirements.txt\r\n",
    "!pip install gdown"
   ]
  },
  {
   "cell_type": "code",
   "execution_count": null,
   "metadata": {},
   "outputs": [],
   "source": [
    "import gdown\r\n",
    "if not os.path.exists(\"data.zip\"):\r\n",
    "  gdown.download(\"https://drive.google.com/uc?id=1onHHWIhkhN5xYMit0rhhtVXlJrAlzCit\", \"data.zip\", quiet=False)"
   ]
  },
  {
   "cell_type": "code",
   "execution_count": null,
   "metadata": {},
   "outputs": [],
   "source": [
    "if not os.path.isdir(\"data\"):\r\n",
    "  !unzip data.zip"
   ]
  },
  {
   "cell_type": "code",
   "execution_count": null,
   "metadata": {},
   "outputs": [],
   "source": [
    "%cd notebooks/\r\n",
    "!ls"
   ]
  }
 ],
 "metadata": {},
 "nbformat": 4,
 "nbformat_minor": 0
}
