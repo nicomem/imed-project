{
  "nbformat": 4,
  "nbformat_minor": 0,
  "metadata": {
    "kernelspec": {
      "display_name": "Python 3",
      "language": "python",
      "name": "python3"
    },
    "language_info": {
      "codemirror_mode": {
        "name": "ipython",
        "version": 3
      },
      "file_extension": ".py",
      "mimetype": "text/x-python",
      "name": "python",
      "nbconvert_exporter": "python",
      "pygments_lexer": "ipython3",
      "version": "3.8.6+"
    },
    "colab": {
      "name": "2D-no-prepro.ipynb",
      "provenance": [],
      "toc_visible": true
    }
  },
  "cells": [
    {
      "cell_type": "markdown",
      "metadata": {
        "id": "fVCCkH4heCX1"
      },
      "source": [
        "# 2D model without preprocessing"
      ]
    },
    {
      "cell_type": "code",
      "metadata": {
        "id": "DaxlvhwgeCX-"
      },
      "source": [
        "# 3rd-party imports\n",
        "import numpy as np\n",
        "import nibabel as nib\n",
        "import tensorflow as tf\n",
        "import tensorflow.keras as k\n",
        "import matplotlib.pyplot as plt"
      ],
      "execution_count": null,
      "outputs": []
    },
    {
      "cell_type": "code",
      "metadata": {
        "id": "Yv7IqAene14f"
      },
      "source": [
        "import os\r\n",
        "if not os.path.isdir(\"../notebooks\") and not os.path.isdir(\"imed-project\"):\r\n",
        "  !git clone https://github.com/nicomem/imed-project.git\r\n",
        "  %cd imed-project/notebooks"
      ],
      "execution_count": null,
      "outputs": []
    },
    {
      "cell_type": "markdown",
      "metadata": {
        "id": "2npk4YU6vgaC"
      },
      "source": [
        "## Installing Requirements"
      ]
    },
    {
      "cell_type": "code",
      "metadata": {
        "id": "XvZKYyWKflV-"
      },
      "source": [
        "%cd ..\r\n",
        "!pip install -r requirements.txt\r\n",
        "!pip install gdown"
      ],
      "execution_count": null,
      "outputs": []
    },
    {
      "cell_type": "code",
      "metadata": {
        "id": "yLPP4R5tpwbS"
      },
      "source": [
        "import gdown\r\n",
        "if not os.path.exists(\"data.zip\"):\r\n",
        "  gdown.download(\"https://drive.google.com/uc?id=1onHHWIhkhN5xYMit0rhhtVXlJrAlzCit\", \"data.zip\", quiet=False)"
      ],
      "execution_count": null,
      "outputs": []
    },
    {
      "cell_type": "code",
      "metadata": {
        "id": "Lr7sLY9Su2oX"
      },
      "source": [
        "if not os.path.isdir(\"data\"):\r\n",
        "  !unzip data.zip"
      ],
      "execution_count": null,
      "outputs": []
    },
    {
      "cell_type": "code",
      "metadata": {
        "id": "z-UpwoU5gS_Y"
      },
      "source": [
        "%cd notebooks/\r\n",
        "!ls"
      ],
      "execution_count": null,
      "outputs": []
    },
    {
      "cell_type": "markdown",
      "metadata": {
        "id": "ijoAUa1veCX_"
      },
      "source": [
        "## Get dataset & split train/test"
      ]
    },
    {
      "cell_type": "code",
      "metadata": {
        "id": "Vgs0mGhDeCX_"
      },
      "source": [
        "from utils.load_data import get_dataset, NibDataSequence, CachedDataSequence\n",
        "\n",
        "train_nib, val_nib = get_dataset('../data', verbose=True)"
      ],
      "execution_count": null,
      "outputs": []
    },
    {
      "cell_type": "code",
      "metadata": {
        "id": "-cKM2KT2eCYA"
      },
      "source": [
        "train_nib.keys()"
      ],
      "execution_count": null,
      "outputs": []
    },
    {
      "cell_type": "code",
      "metadata": {
        "id": "eADLEVcjeCYA"
      },
      "source": [
        "[len(v) for v in train_nib.values()]"
      ],
      "execution_count": null,
      "outputs": []
    },
    {
      "cell_type": "code",
      "metadata": {
        "id": "wpPzbk44eCYA"
      },
      "source": [
        "[len(v) for v in val_nib.values()]"
      ],
      "execution_count": null,
      "outputs": []
    },
    {
      "cell_type": "markdown",
      "metadata": {
        "id": "Um7OQh3JeCYB"
      },
      "source": [
        "## Load train & analyze"
      ]
    },
    {
      "cell_type": "code",
      "metadata": {
        "id": "z0bbp1IieCYB"
      },
      "source": [
        "train_seq_uncached = NibDataSequence(train_nib)\n",
        "train_seq = CachedDataSequence(train_seq_uncached)\n",
        "len(train_seq)"
      ],
      "execution_count": null,
      "outputs": []
    },
    {
      "cell_type": "code",
      "metadata": {
        "id": "uHYQOPyEeCYB"
      },
      "source": [
        "# Different number of slices & X/Y dimensions for inputs & targets\n",
        "train_seq.X[0].shape, train_seq.Y[0].shape"
      ],
      "execution_count": null,
      "outputs": []
    },
    {
      "cell_type": "code",
      "metadata": {
        "id": "GkA6YTFVeCYB"
      },
      "source": [
        "train_seq.X[-1].shape, train_seq.Y[-1].shape"
      ],
      "execution_count": null,
      "outputs": []
    },
    {
      "cell_type": "code",
      "metadata": {
        "id": "01x2Hc-yeCYC"
      },
      "source": [
        "i_data = 20\n",
        "i_slice = 25\n",
        "\n",
        "plt.figure(figsize=(10, 10))\n",
        "plt.subplot(1, 3, 1)\n",
        "plt.imshow(train_seq.X[i_data][i_slice,...,0])\n",
        "\n",
        "plt.subplot(1, 3, 2)\n",
        "plt.imshow(train_seq.X[i_data][i_slice,...,1])\n",
        "\n",
        "plt.subplot(1, 3, 3)\n",
        "plt.imshow(train_seq.Y[i_data][i_slice])"
      ],
      "execution_count": null,
      "outputs": []
    },
    {
      "cell_type": "markdown",
      "metadata": {
        "id": "KGCmLlkKeCYC"
      },
      "source": [
        "## Prepare the model"
      ]
    },
    {
      "cell_type": "code",
      "metadata": {
        "id": "7iQODM_xeCYD"
      },
      "source": [
        "# TODO\n",
        "\n",
        "# Dummy model\n",
        "inputs = k.Input((None, None, 2))\n",
        "conv1 = k.layers.Conv2D(2, 5, activation='relu', padding='same')(inputs)\n",
        "outputs = k.layers.Conv2D(1, 3, activation='sigmoid', padding='same')(conv1)\n",
        "\n",
        "model = k.Model(inputs, outputs)\n",
        "model.summary()"
      ],
      "execution_count": null,
      "outputs": []
    },
    {
      "cell_type": "markdown",
      "metadata": {
        "id": "gJs74PmCeCYD"
      },
      "source": [
        "## Train the model"
      ]
    },
    {
      "cell_type": "code",
      "metadata": {
        "id": "iAMWU1ASeCYD"
      },
      "source": [
        "val_seq_uncached = NibDataSequence(val_nib)\n",
        "val_seq = CachedDataSequence(val_seq_uncached)\n",
        "len(val_seq)"
      ],
      "execution_count": null,
      "outputs": []
    },
    {
      "cell_type": "code",
      "metadata": {
        "id": "4fVAoFSieCYD"
      },
      "source": [
        "model.compile(\n",
        "    optimizer='adam',\n",
        "    loss='binary_crossentropy'\n",
        ")"
      ],
      "execution_count": null,
      "outputs": []
    },
    {
      "cell_type": "code",
      "metadata": {
        "id": "CjOK0JuUeCYE"
      },
      "source": [
        "history = model.fit(train_seq, epochs=1, validation_data=val_seq)"
      ],
      "execution_count": null,
      "outputs": []
    },
    {
      "cell_type": "markdown",
      "metadata": {
        "id": "rPcR8dVueCYE"
      },
      "source": [
        "## Check the results"
      ]
    },
    {
      "cell_type": "code",
      "metadata": {
        "id": "eMiksqmGeCYE"
      },
      "source": [
        "# TODO"
      ],
      "execution_count": null,
      "outputs": []
    }
  ]
}