{
 "cells": [
  {
   "cell_type": "markdown",
   "metadata": {},
   "source": [
    "# 2D model without preprocessing"
   ]
  },
  {
   "cell_type": "code",
   "execution_count": null,
   "metadata": {},
   "outputs": [],
   "source": [
    "# 3rd-party imports\n",
    "import numpy as np\n",
    "import nibabel as nib\n",
    "import tensorflow as tf\n",
    "import keras as k\n",
    "import skimage"
   ]
  },
  {
   "cell_type": "markdown",
   "metadata": {},
   "source": [
    "## Load data"
   ]
  },
  {
   "cell_type": "code",
   "execution_count": null,
   "metadata": {},
   "outputs": [],
   "source": [
    "from pathlib import Path\n",
    "from skimage.io import imshow"
   ]
  },
  {
   "cell_type": "code",
   "execution_count": null,
   "metadata": {},
   "outputs": [],
   "source": [
    "data_dir = Path('../data/')\n",
    "!ls {data_dir}"
   ]
  },
  {
   "cell_type": "code",
   "execution_count": null,
   "metadata": {},
   "outputs": [],
   "source": [
    "input_files_3DT1 = list((data_dir / '3DT1').glob('*.nii.gz'))\n",
    "input_files_FLAIR = list((data_dir / 'FLAIR').glob('*.nii.gz'))\n",
    "input_files_T1 = list((data_dir / 'T1').glob('*.nii.gz'))\n",
    "input_files_wmh = list((data_dir / 'wmh').glob('*.nii.gz'))\n",
    "\n",
    "len(input_files_3DT1), len(input_files_FLAIR), \\\n",
    "len(input_files_T1), len(input_files_wmh)"
   ]
  },
  {
   "cell_type": "code",
   "execution_count": null,
   "metadata": {},
   "outputs": [],
   "source": [
    "inputs_3DT1 = [nib.load(f) for f in input_files_3DT1]\n",
    "inputs_FLAIR = [nib.load(f) for f in input_files_FLAIR]\n",
    "inputs_T1 = [nib.load(f) for f in input_files_T1]\n",
    "inputs_wmh = [nib.load(f) for f in input_files_wmh]\n",
    "\n",
    "inputs_3DT1[0].shape, inputs_FLAIR[0].shape, \\\n",
    "inputs_T1[0].shape, inputs_wmh[0].shape"
   ]
  },
  {
   "cell_type": "code",
   "execution_count": null,
   "metadata": {},
   "outputs": [],
   "source": [
    "inputs_3DT1[-1].shape, inputs_FLAIR[-1].shape, \\\n",
    "inputs_T1[-1].shape, inputs_wmh[-1].shape"
   ]
  },
  {
   "cell_type": "code",
   "execution_count": null,
   "metadata": {},
   "outputs": [],
   "source": []
  }
 ],
 "metadata": {
  "kernelspec": {
   "display_name": "Python 3",
   "language": "python",
   "name": "python3"
  },
  "language_info": {
   "codemirror_mode": {
    "name": "ipython",
    "version": 3
   },
   "file_extension": ".py",
   "mimetype": "text/x-python",
   "name": "python",
   "nbconvert_exporter": "python",
   "pygments_lexer": "ipython3",
   "version": "3.8.6+"
  }
 },
 "nbformat": 4,
 "nbformat_minor": 4
}
