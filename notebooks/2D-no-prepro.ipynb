{
 "cells": [
  {
   "cell_type": "markdown",
   "metadata": {
    "id": "fVCCkH4heCX1"
   },
   "source": [
    "# 2D model without preprocessing"
   ]
  },
  {
   "cell_type": "markdown",
   "metadata": {
    "id": "axYPG6ITboZ3"
   },
   "source": [
    "## Colab integration"
   ]
  },
  {
   "cell_type": "code",
   "execution_count": null,
   "metadata": {
    "colab": {
     "base_uri": "https://localhost:8080/"
    },
    "id": "Qk33XTWRboZ4",
    "outputId": "de49b764-6a9c-4534-c5c1-cadba613fe3a"
   },
   "outputs": [],
   "source": [
    "RUNNING_IN_COLAB = False\n",
    "\n",
    "if RUNNING_IN_COLAB:\n",
    "    REPO_URL = 'https://github.com/nicomem/imed-project.git'\n",
    "    REPO_DIR = 'imed-project'\n",
    "    DATA_URL = 'https://drive.google.com/uc?id=1onHHWIhkhN5xYMit0rhhtVXlJrAlzCit'\n",
    "    \n",
    "    from pathlib import Path\n",
    "\n",
    "    %cd /content\n",
    "\n",
    "    # Download the repository\n",
    "    if not Path(REPO_DIR).is_dir():\n",
    "        !git clone {REPO_URL} {REPO_DIR} --depth=1\n",
    "    \n",
    "    %cd {REPO_DIR}\n",
    "\n",
    "    # Install requirements\n",
    "    !pip install -r requirements.txt | grep -v 'Requirement already satisfied'\n",
    "    !pip install gdown | grep -v 'Requirement already satisfied'\n",
    "    \n",
    "    import gdown\n",
    "    if not Path('data.zip').is_file():\n",
    "        gdown.download(DATA_URL, 'data.zip', quiet=False)\n",
    "    \n",
    "    if not Path('data').is_dir():\n",
    "        !unzip data.zip\n",
    "    \n",
    "    %cd notebooks\n",
    "    !ls"
   ]
  },
  {
   "cell_type": "markdown",
   "metadata": {
    "id": "5hu8S_JzboaB"
   },
   "source": [
    "## Imports"
   ]
  },
  {
   "cell_type": "code",
   "execution_count": null,
   "metadata": {
    "colab": {
     "base_uri": "https://localhost:8080/"
    },
    "id": "DaxlvhwgeCX-",
    "outputId": "abbbd3fe-8b5c-4e3e-af7d-9bb1e279f553"
   },
   "outputs": [],
   "source": [
    "# 3rd-party imports\n",
    "import numpy as np\n",
    "import nibabel as nib\n",
    "import tensorflow as tf\n",
    "import matplotlib.pyplot as plt\n",
    "import keras_unet\n",
    "\n",
    "from tensorflow import keras"
   ]
  },
  {
   "cell_type": "markdown",
   "metadata": {
    "id": "ijoAUa1veCX_"
   },
   "source": [
    "## Get dataset & split train/test"
   ]
  },
  {
   "cell_type": "code",
   "execution_count": null,
   "metadata": {
    "colab": {
     "base_uri": "https://localhost:8080/"
    },
    "id": "Vgs0mGhDeCX_",
    "outputId": "31c8b15a-361b-4e0a-b2ea-d76e830a5ecc"
   },
   "outputs": [],
   "source": [
    "from utils.load_data import get_dataset, SlicesSequence, CachedSlicesSequence\n",
    "\n",
    "train_nib, val_nib, test_nib = get_dataset('../data', verbose=True)"
   ]
  },
  {
   "cell_type": "code",
   "execution_count": null,
   "metadata": {
    "colab": {
     "base_uri": "https://localhost:8080/"
    },
    "id": "-cKM2KT2eCYA",
    "outputId": "87607290-0e82-4a0e-c8c9-8a40db0ba5e7"
   },
   "outputs": [],
   "source": [
    "train_nib.keys()"
   ]
  },
  {
   "cell_type": "code",
   "execution_count": null,
   "metadata": {
    "colab": {
     "base_uri": "https://localhost:8080/"
    },
    "id": "eADLEVcjeCYA",
    "outputId": "ba4e15fa-1477-45f1-a674-e602c274ea56"
   },
   "outputs": [],
   "source": [
    "[len(v) for v in train_nib.values()]"
   ]
  },
  {
   "cell_type": "code",
   "execution_count": null,
   "metadata": {
    "colab": {
     "base_uri": "https://localhost:8080/"
    },
    "id": "wpPzbk44eCYA",
    "outputId": "2bb88df6-f595-4ccc-f006-fbcda676e0ee"
   },
   "outputs": [],
   "source": [
    "[len(v) for v in val_nib.values()]"
   ]
  },
  {
   "cell_type": "code",
   "execution_count": null,
   "metadata": {},
   "outputs": [],
   "source": [
    "[len(v) for v in test_nib.values()]"
   ]
  },
  {
   "cell_type": "markdown",
   "metadata": {
    "id": "Um7OQh3JeCYB"
   },
   "source": [
    "## Load train & analyze"
   ]
  },
  {
   "cell_type": "code",
   "execution_count": null,
   "metadata": {
    "colab": {
     "base_uri": "https://localhost:8080/"
    },
    "id": "ZNUkeZpaboaE",
    "outputId": "3f3e9098-e714-4538-c3b1-f01efea15a4c"
   },
   "outputs": [],
   "source": [
    "batch_size = 32\n",
    "shuffle = True\n",
    "target_height = 256\n",
    "target_width = 256\n",
    "img_size = (target_height, target_width)\n",
    "num_classes = 1\n",
    "\n",
    "train_seq_uncached = SlicesSequence(train_nib,\n",
    "                                    target_height, target_width, \n",
    "                                    batch_size, shuffle)\n",
    "train_seq = CachedSlicesSequence(train_seq_uncached, batch_size, shuffle)\n",
    "len(train_seq)"
   ]
  },
  {
   "cell_type": "code",
   "execution_count": null,
   "metadata": {
    "colab": {
     "base_uri": "https://localhost:8080/"
    },
    "id": "uHYQOPyEeCYB",
    "outputId": "2734e2eb-0a97-4b9a-dd46-cdb8ca82a9ac"
   },
   "outputs": [],
   "source": [
    "# Different number of slices & X/Y dimensions for inputs & targets\n",
    "x,y = train_seq[0]\n",
    "print(x.shape)\n",
    "print(y.shape)\n",
    "print(x[0,...,0].shape, x[0,...,1].shape, y[0].shape)\n",
    "\n",
    "print('---')\n",
    "\n",
    "x,y = train_seq[-1]\n",
    "print(x.shape)\n",
    "print(y.shape)\n",
    "print(x[0,...,0].shape, x[0,...,1].shape, y[0].shape)"
   ]
  },
  {
   "cell_type": "code",
   "execution_count": null,
   "metadata": {
    "colab": {
     "base_uri": "https://localhost:8080/",
     "height": 395
    },
    "id": "01x2Hc-yeCYC",
    "outputId": "0a008479-9b8d-4a40-ce24-699a732f327b"
   },
   "outputs": [],
   "source": [
    "plt.figure(figsize=(9, 6))\n",
    "i_data = 15\n",
    "\n",
    "x,y = train_seq[0]\n",
    "plt.subplot(2, 3, 1); plt.imshow(x[i_data,...,0])\n",
    "plt.subplot(2, 3, 2); plt.imshow(x[i_data,...,1])\n",
    "plt.subplot(2, 3, 3); plt.imshow(y[i_data])\n",
    "\n",
    "x,y = train_seq[-1]\n",
    "plt.subplot(2, 3, 4); plt.imshow(x[i_data,...,0])\n",
    "plt.subplot(2, 3, 5); plt.imshow(x[i_data,...,1])\n",
    "plt.subplot(2, 3, 6); plt.imshow(y[i_data])"
   ]
  },
  {
   "cell_type": "markdown",
   "metadata": {
    "id": "KGCmLlkKeCYC"
   },
   "source": [
    "## Prepare the model"
   ]
  },
  {
   "cell_type": "code",
   "execution_count": null,
   "metadata": {
    "colab": {
     "base_uri": "https://localhost:8080/"
    },
    "id": "7iQODM_xeCYD",
    "outputId": "db2c1256-5a53-4ffd-d2b4-b86f58220c5e"
   },
   "outputs": [],
   "source": [
    "from keras_unet.models import custom_unet\n",
    "\n",
    "input_shape = (target_height, target_width, 2)\n",
    "keras.backend.clear_session()\n",
    "model = custom_unet(\n",
    "    input_shape,\n",
    "    num_classes=1,\n",
    "    use_batch_norm=True,\n",
    "    filters=32,\n",
    "    num_layers=3,\n",
    "    #dropout=0.3,\n",
    "    output_activation='sigmoid'\n",
    ")\n",
    "model.summary()"
   ]
  },
  {
   "cell_type": "markdown",
   "metadata": {
    "id": "gJs74PmCeCYD"
   },
   "source": [
    "## Train the model"
   ]
  },
  {
   "cell_type": "code",
   "execution_count": null,
   "metadata": {
    "colab": {
     "base_uri": "https://localhost:8080/"
    },
    "id": "iAMWU1ASeCYD",
    "outputId": "cdb3ef9e-777c-47c2-e647-0eca8bccde97"
   },
   "outputs": [],
   "source": [
    "val_seq_uncached = SlicesSequence(val_nib,\n",
    "                                  target_height, target_width,\n",
    "                                  batch_size, shuffle)\n",
    "val_seq = CachedSlicesSequence(val_seq_uncached, batch_size, shuffle)\n",
    "len(val_seq)"
   ]
  },
  {
   "cell_type": "code",
   "execution_count": null,
   "metadata": {},
   "outputs": [],
   "source": [
    "usable_train_data = np.any(train_seq.Y, axis=(1,2))\n",
    "np.count_nonzero(usable_train_data), train_seq.Y.shape[0]"
   ]
  },
  {
   "cell_type": "code",
   "execution_count": null,
   "metadata": {
    "colab": {
     "base_uri": "https://localhost:8080/"
    },
    "id": "ViWaDE1tAsrA",
    "outputId": "a736619e-c5f3-49d8-938b-538cdfda1c70"
   },
   "outputs": [],
   "source": [
    "np.count_nonzero(np.any(val_seq.Y, axis=(1,2))), val_seq.Y.shape[0]"
   ]
  },
  {
   "cell_type": "code",
   "execution_count": null,
   "metadata": {
    "id": "fx6HsqB3dgol"
   },
   "outputs": [],
   "source": [
    "# train_seq.Y = train_seq.Y.astype(np.float32)\n",
    "# val_seq.Y = val_seq.Y.astype(np.float32)"
   ]
  },
  {
   "cell_type": "code",
   "execution_count": null,
   "metadata": {
    "id": "JLbi06MSBp8W"
   },
   "outputs": [],
   "source": [
    "#train_seq.Y = train_seq.Y[usable_train_data]\n",
    "#train_seq.X = train_seq.X[usable_train_data]"
   ]
  },
  {
   "cell_type": "code",
   "execution_count": null,
   "metadata": {
    "colab": {
     "base_uri": "https://localhost:8080/"
    },
    "id": "tFmYO5kQDIR7",
    "outputId": "fe73f471-9e1f-415d-9842-d360ed5346b6"
   },
   "outputs": [],
   "source": [
    "train_seq.X.shape, train_seq.Y.shape"
   ]
  },
  {
   "cell_type": "code",
   "execution_count": null,
   "metadata": {
    "id": "KkPQZKfMgCPy"
   },
   "outputs": [],
   "source": [
    "from keras import backend as K\n",
    "\n",
    "def dice_coef(y_true, y_pred, smooth=1):\n",
    "    \"\"\"\n",
    "    Dice = (2*|X & Y|)/ (|X|+ |Y|)\n",
    "         =  2*sum(|A*B|)/(sum(A^2)+sum(B^2))\n",
    "    ref: https://arxiv.org/pdf/1606.04797v1.pdf\n",
    "    \"\"\"\n",
    "    intersection = K.sum(K.abs(y_true * y_pred), axis=-1)\n",
    "    return (2. * intersection + smooth) / (K.sum(K.square(y_true),-1) + K.sum(K.square(y_pred),-1) + smooth)\n",
    "\n",
    "def dice_coef_loss(y_true, y_pred):\n",
    "    return 1-dice_coef(y_true, y_pred)"
   ]
  },
  {
   "cell_type": "code",
   "execution_count": null,
   "metadata": {
    "id": "3-CbsTwcVubJ"
   },
   "outputs": [],
   "source": [
    "from keras.callbacks import ModelCheckpoint\n",
    "\n",
    "model_filename = 'segm_model_v0.h5'\n",
    "callback_checkpoint = ModelCheckpoint(\n",
    "    model_filename, \n",
    "    verbose=1, \n",
    "    monitor='val_loss', \n",
    "    save_best_only=True,\n",
    ")"
   ]
  },
  {
   "cell_type": "code",
   "execution_count": null,
   "metadata": {
    "id": "4fVAoFSieCYD"
   },
   "outputs": [],
   "source": [
    "model.compile(\n",
    "    optimizer=tf.keras.optimizers.Adam(learning_rate=3e-4),\n",
    "    #loss=dice_coef_loss,\n",
    "    loss=\"binary_crossentropy\",\n",
    "    metrics=[tf.keras.metrics.Recall(), tf.keras.metrics.Precision()]\n",
    ")"
   ]
  },
  {
   "cell_type": "code",
   "execution_count": null,
   "metadata": {
    "colab": {
     "base_uri": "https://localhost:8080/"
    },
    "id": "CjOK0JuUeCYE",
    "outputId": "bdf39933-a3e5-44f4-efd0-2b2fbefaaad7"
   },
   "outputs": [],
   "source": [
    "#history = model.fit(train_seq.X[usable_train_data], train_seq.Y[usable_train_data], epochs=20, validation_data=(val_seq.X[usable_val_data], val_seq.Y[usable_val_data]))\n",
    "history = model.fit(train_seq, epochs=5, validation_data=val_seq, callbacks=[callback_checkpoint])"
   ]
  },
  {
   "cell_type": "code",
   "execution_count": null,
   "metadata": {
    "colab": {
     "base_uri": "https://localhost:8080/",
     "height": 265
    },
    "id": "eMiksqmGeCYE",
    "outputId": "bcea578a-97c5-4361-99fd-941ede39dc0f"
   },
   "outputs": [],
   "source": [
    "def rolling_average(x, w):\n",
    "    return np.convolve(x, np.ones(w), 'valid') / w\n",
    "\n",
    "ravg_w = 1\n",
    "\n",
    "plt.plot(rolling_average(history.history['loss'], ravg_w), label='train')\n",
    "plt.plot(rolling_average(history.history['val_loss'], ravg_w), label='val')\n",
    "\n",
    "plt.legend()\n",
    "plt.show()"
   ]
  },
  {
   "cell_type": "markdown",
   "metadata": {},
   "source": [
    "## Test the model"
   ]
  },
  {
   "cell_type": "code",
   "execution_count": null,
   "metadata": {},
   "outputs": [],
   "source": [
    "test_seq_uncached = SlicesSequence(test_nib,\n",
    "                                   target_height, target_width,\n",
    "                                   batch_size, shuffle)\n",
    "test_seq = CachedSlicesSequence(val_seq_uncached, batch_size, shuffle)\n",
    "len(test_seq)"
   ]
  },
  {
   "cell_type": "code",
   "execution_count": null,
   "metadata": {
    "colab": {
     "base_uri": "https://localhost:8080/"
    },
    "id": "zgc5Zvq7kp7I",
    "outputId": "d32d0c5e-44eb-4d36-f94d-5ff1f811c694"
   },
   "outputs": [],
   "source": [
    "Y_pred = model.predict(test_seq.X)\n",
    "print(Y_pred.shape)"
   ]
  },
  {
   "cell_type": "code",
   "execution_count": null,
   "metadata": {
    "colab": {
     "base_uri": "https://localhost:8080/",
     "height": 1000
    },
    "id": "1UCuw6oUzEgn",
    "outputId": "edb20c8f-5494-4986-8ef3-f9e7a9abd302"
   },
   "outputs": [],
   "source": [
    "N = 10\n",
    "i_samples = np.random.choice(np.arange(0, Y_pred.shape[0]), size=N, replace=False)\n",
    "\n",
    "plt.figure(figsize=(16,16))\n",
    "for i, i_sample in enumerate(i_samples):\n",
    "  x = val_seq.X[i_sample]\n",
    "  y = val_seq.Y[i_sample]\n",
    "  plt.subplot(N, 4, 4*i+1)\n",
    "  plt.imshow(x[...,0])\n",
    "\n",
    "  plt.subplot(N, 4, 4*i+2)\n",
    "  plt.imshow(x[...,1])\n",
    "\n",
    "  plt.subplot(N, 4, 4*i+3)\n",
    "  plt.imshow(np.reshape(y, (target_height, target_width)))\n",
    "\n",
    "  plt.subplot(N, 4, 4*i+4)\n",
    "  plt.imshow(np.reshape(Y_pred[i_sample], (target_height, target_width)))"
   ]
  }
 ],
 "metadata": {
  "accelerator": "GPU",
  "colab": {
   "name": "2D-no-prepro.ipynb",
   "provenance": [],
   "toc_visible": true
  },
  "kernelspec": {
   "display_name": "Python 3",
   "language": "python",
   "name": "python3"
  },
  "language_info": {
   "codemirror_mode": {
    "name": "ipython",
    "version": 3
   },
   "file_extension": ".py",
   "mimetype": "text/x-python",
   "name": "python",
   "nbconvert_exporter": "python",
   "pygments_lexer": "ipython3",
   "version": "3.8.6+"
  }
 },
 "nbformat": 4,
 "nbformat_minor": 1
}
