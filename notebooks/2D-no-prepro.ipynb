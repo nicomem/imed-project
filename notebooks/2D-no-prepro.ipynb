{
 "cells": [
  {
   "cell_type": "markdown",
   "metadata": {
    "id": "fVCCkH4heCX1"
   },
   "source": [
    "# 2D model without preprocessing"
   ]
  },
  {
   "cell_type": "markdown",
   "metadata": {
    "id": "axYPG6ITboZ3"
   },
   "source": [
    "## Colab integration"
   ]
  },
  {
   "cell_type": "code",
   "execution_count": null,
   "metadata": {},
   "outputs": [],
   "source": [
    "RUNNING_IN_COLAB = False\n",
    "\n",
    "if RUNNING_IN_COLAB:\n",
    "    REPO_URL = 'https://github.com/nicomem/imed-project.git'\n",
    "    BRANCH   = 'master'\n",
    "    REPO_DIR = 'imed-project'\n",
    "    DATA_URL = 'https://drive.google.com/uc?id=1onHHWIhkhN5xYMit0rhhtVXlJrAlzCit'\n",
    "    \n",
    "    from pathlib import Path\n",
    "\n",
    "    %cd /content\n",
    "\n",
    "    # Download the repository\n",
    "    if not Path(REPO_DIR).is_dir():\n",
    "        !git clone --branch {BRANCH} --depth=1 -- {REPO_URL} {REPO_DIR}\n",
    "    \n",
    "    %cd {REPO_DIR}\n",
    "\n",
    "    # Install requirements\n",
    "    !pip install -r requirements.txt | grep -v 'Requirement already satisfied'\n",
    "    !pip install gdown | grep -v 'Requirement already satisfied'\n",
    "    \n",
    "    import gdown\n",
    "    if not Path('data.zip').is_file():\n",
    "        gdown.download(DATA_URL, 'data.zip', quiet=False)\n",
    "    \n",
    "    if not Path('data').is_dir():\n",
    "        !unzip -q -- data.zip\n",
    "    \n",
    "    %cd notebooks\n",
    "    !ls"
   ]
  },
  {
   "cell_type": "markdown",
   "metadata": {
    "id": "5hu8S_JzboaB"
   },
   "source": [
    "## Imports"
   ]
  },
  {
   "cell_type": "code",
   "execution_count": null,
   "metadata": {},
   "outputs": [],
   "source": [
    "# 3rd-party imports\n",
    "import numpy as np\n",
    "import nibabel as nib\n",
    "import tensorflow as tf\n",
    "import matplotlib.pyplot as plt\n",
    "import keras_unet\n",
    "import cv2\n",
    "\n",
    "from tensorflow import keras"
   ]
  },
  {
   "cell_type": "markdown",
   "metadata": {
    "id": "ijoAUa1veCX_"
   },
   "source": [
    "## Get dataset & split train/test"
   ]
  },
  {
   "cell_type": "code",
   "execution_count": null,
   "metadata": {},
   "outputs": [],
   "source": [
    "from utils.load_data import get_dataset, SlicesSequence, CachedSlicesSequence\n",
    "\n",
    "train_nib, val_nib, test_nib = get_dataset('../data', verbose=True)"
   ]
  },
  {
   "cell_type": "code",
   "execution_count": null,
   "metadata": {},
   "outputs": [],
   "source": [
    "train_nib.keys()"
   ]
  },
  {
   "cell_type": "code",
   "execution_count": null,
   "metadata": {},
   "outputs": [],
   "source": [
    "[len(v) for v in train_nib.values()]"
   ]
  },
  {
   "cell_type": "code",
   "execution_count": null,
   "metadata": {},
   "outputs": [],
   "source": [
    "[len(v) for v in val_nib.values()]"
   ]
  },
  {
   "cell_type": "code",
   "execution_count": null,
   "metadata": {},
   "outputs": [],
   "source": [
    "[len(v) for v in test_nib.values()]"
   ]
  },
  {
   "cell_type": "markdown",
   "metadata": {
    "id": "Um7OQh3JeCYB"
   },
   "source": [
    "## Load train & analyze"
   ]
  },
  {
   "cell_type": "code",
   "execution_count": null,
   "metadata": {},
   "outputs": [],
   "source": [
    "batch_size = 32\n",
    "shuffle = True\n",
    "target_height = 256\n",
    "target_width = 256\n",
    "img_size = (target_height, target_width)\n",
    "num_classes = 1\n",
    "\n",
    "train_seq_uncached = SlicesSequence(train_nib,\n",
    "                                    target_height, target_width, \n",
    "                                    batch_size, shuffle)\n",
    "train_seq = CachedSlicesSequence(train_seq_uncached, batch_size, shuffle)\n",
    "len(train_seq)"
   ]
  },
  {
   "cell_type": "code",
   "execution_count": null,
   "metadata": {},
   "outputs": [],
   "source": [
    "# Different number of slices & X/Y dimensions for inputs & targets\n",
    "x,y = train_seq[0]\n",
    "print(x.shape)\n",
    "print(y.shape)\n",
    "print(x[0,...,0].shape, x[0,...,1].shape, y[0].shape)\n",
    "\n",
    "print('---')\n",
    "\n",
    "x,y = train_seq[-1]\n",
    "print(x.shape)\n",
    "print(y.shape)\n",
    "print(x[0,...,0].shape, x[0,...,1].shape, y[0].shape)"
   ]
  },
  {
   "cell_type": "code",
   "execution_count": null,
   "metadata": {},
   "outputs": [],
   "source": [
    "plt.figure(figsize=(9, 6))\n",
    "i_data = 15\n",
    "\n",
    "x,y = train_seq[0]\n",
    "plt.subplot(2, 3, 1); plt.imshow(x[i_data,...,0])\n",
    "plt.subplot(2, 3, 2); plt.imshow(x[i_data,...,1])\n",
    "plt.subplot(2, 3, 3); plt.imshow(y[i_data])\n",
    "\n",
    "x,y = train_seq[-1]\n",
    "plt.subplot(2, 3, 4); plt.imshow(x[i_data,...,0])\n",
    "plt.subplot(2, 3, 5); plt.imshow(x[i_data,...,1])\n",
    "plt.subplot(2, 3, 6); plt.imshow(y[i_data])"
   ]
  },
  {
   "cell_type": "markdown",
   "metadata": {
    "id": "KGCmLlkKeCYC"
   },
   "source": [
    "## Prepare the model"
   ]
  },
  {
   "cell_type": "code",
   "execution_count": null,
   "metadata": {},
   "outputs": [],
   "source": [
    "from keras_unet.models import custom_unet\n",
    "\n",
    "input_shape = (target_height, target_width, 2)\n",
    "keras.backend.clear_session()\n",
    "model = custom_unet(\n",
    "    input_shape,\n",
    "    num_classes=1,\n",
    "    use_batch_norm=True,\n",
    "    filters=32,\n",
    "    num_layers=3,\n",
    "    dropout=0.1,\n",
    "    output_activation='sigmoid'\n",
    ")\n",
    "model.summary()"
   ]
  },
  {
   "cell_type": "markdown",
   "metadata": {
    "id": "gJs74PmCeCYD"
   },
   "source": [
    "## Train the model"
   ]
  },
  {
   "cell_type": "code",
   "execution_count": null,
   "metadata": {},
   "outputs": [],
   "source": [
    "val_seq_uncached = SlicesSequence(val_nib,\n",
    "                                  target_height, target_width,\n",
    "                                  batch_size, shuffle)\n",
    "val_seq = CachedSlicesSequence(val_seq_uncached, batch_size, shuffle)\n",
    "len(val_seq)"
   ]
  },
  {
   "cell_type": "code",
   "execution_count": null,
   "metadata": {},
   "outputs": [],
   "source": [
    "usable_train_data = np.any(train_seq.Y, axis=(1,2))\n",
    "np.count_nonzero(usable_train_data), train_seq.Y.shape[0]"
   ]
  },
  {
   "cell_type": "code",
   "execution_count": null,
   "metadata": {},
   "outputs": [],
   "source": [
    "np.count_nonzero(np.any(val_seq.Y, axis=(1,2))), val_seq.Y.shape[0]"
   ]
  },
  {
   "cell_type": "code",
   "execution_count": null,
   "metadata": {},
   "outputs": [],
   "source": [
    "from keras.callbacks import ModelCheckpoint\n",
    "\n",
    "model_filename = 'segm_model_v0.h5'\n",
    "callback_checkpoint = ModelCheckpoint(\n",
    "    model_filename, \n",
    "    verbose=1, \n",
    "    monitor='val_loss', \n",
    "    save_best_only=True,\n",
    ")"
   ]
  },
  {
   "cell_type": "code",
   "execution_count": null,
   "metadata": {},
   "outputs": [],
   "source": [
    "model.compile(\n",
    "    optimizer=tf.keras.optimizers.Adam(learning_rate=3e-4),\n",
    "    loss=\"binary_crossentropy\",\n",
    "    metrics=[tf.keras.metrics.Recall(name='recall'),\n",
    "             tf.keras.metrics.Precision(name='precision')]\n",
    ")"
   ]
  },
  {
   "cell_type": "code",
   "execution_count": null,
   "metadata": {},
   "outputs": [],
   "source": [
    "history = model.fit(\n",
    "    train_seq.X[usable_train_data],\n",
    "    train_seq.Y[usable_train_data],\n",
    "    epochs=40,\n",
    "    validation_data=(val_seq.X, val_seq.Y),\n",
    "    batch_size=32,\n",
    "    shuffle=True\n",
    ")"
   ]
  },
  {
   "cell_type": "code",
   "execution_count": null,
   "metadata": {},
   "outputs": [],
   "source": [
    "def rolling_average(x, w):\n",
    "    return np.convolve(x, np.ones(w), 'valid') / w\n",
    "\n",
    "ravg_w = 3\n",
    "\n",
    "plot_cols = ['loss', 'precision', 'recall']\n",
    "plt.figure(figsize=(20,6))\n",
    "for i, col in enumerate(plot_cols):\n",
    "    plt.subplot(1, len(plot_cols), i+1)\n",
    "\n",
    "    plt.plot(rolling_average(history.history[col], ravg_w), label='train')\n",
    "    plt.plot(rolling_average(history.history[f'val_{col}'], ravg_w), label='val')\n",
    "\n",
    "    plt.title(col)\n",
    "    plt.xlabel('Epoch')\n",
    "    plt.ylabel(col)\n",
    "    plt.legend()\n",
    "\n",
    "plt.show()"
   ]
  },
  {
   "cell_type": "code",
   "execution_count": null,
   "metadata": {},
   "outputs": [],
   "source": [
    "def check_model_with_set(model, seq, N = 10, res_to_bool = True):\n",
    "    # Predict the test set\n",
    "    Y_pred = model.predict(seq.X)\n",
    "    print('Y_pred shape:', Y_pred.shape)\n",
    "\n",
    "    if res_to_bool:\n",
    "        Y_pred = Y_pred > 0.5\n",
    "    \n",
    "    # Compare some predictions to the ground truth\n",
    "    i_samples = np.random.choice(np.arange(0, Y_pred.shape[0]), size=N, replace=False)\n",
    "\n",
    "    plt.figure(figsize=(20,5*N))\n",
    "    for i, i_sample in enumerate(i_samples):\n",
    "      x = seq.X[i_sample]\n",
    "      y = seq.Y[i_sample]\n",
    "      plt.subplot(N, 4, 4*i+1)\n",
    "      plt.imshow(x[...,0])\n",
    "      plt.title('T1')\n",
    "\n",
    "      plt.subplot(N, 4, 4*i+2)\n",
    "      plt.imshow(x[...,1])\n",
    "      plt.title('FLAIR')\n",
    "\n",
    "      plt.subplot(N, 4, 4*i+3)\n",
    "      plt.imshow(np.reshape(y, (target_height, target_width)))\n",
    "      plt.title('Ground Truth (wmh)')\n",
    "\n",
    "      plt.subplot(N, 4, 4*i+4)\n",
    "      plt.imshow(np.reshape(Y_pred[i_sample], (target_height, target_width)))\n",
    "      plt.title('Predicted (wmh)')"
   ]
  },
  {
   "cell_type": "code",
   "execution_count": null,
   "metadata": {},
   "outputs": [],
   "source": [
    "check_model_with_set(model, val_seq, res_to_bool=False)"
   ]
  },
  {
   "cell_type": "markdown",
   "metadata": {
    "id": "7bTgiK-fXetk"
   },
   "source": [
    "## Test the model"
   ]
  },
  {
   "cell_type": "code",
   "execution_count": null,
   "metadata": {},
   "outputs": [],
   "source": [
    "# Fetch the test set\n",
    "test_seq_uncached = SlicesSequence(test_nib,\n",
    "                                   target_height, target_width,\n",
    "                                   batch_size, shuffle)\n",
    "test_seq = CachedSlicesSequence(val_seq_uncached, batch_size, shuffle)\n",
    "print('Number of slices in test set:', len(test_seq) * batch_size)"
   ]
  },
  {
   "cell_type": "code",
   "execution_count": null,
   "metadata": {},
   "outputs": [],
   "source": [
    "check_model_with_set(model, test_seq, N=20, res_to_bool=True)"
   ]
  },
  {
   "cell_type": "code",
   "execution_count": null,
   "metadata": {},
   "outputs": [],
   "source": []
  }
 ],
 "metadata": {
  "language_info": {
   "name": "python"
  }
 },
 "nbformat": 4,
 "nbformat_minor": 1
}
