{
 "cells": [
  {
   "cell_type": "markdown",
   "metadata": {
    "id": "fVCCkH4heCX1"
   },
   "source": [
    "# 2D model without preprocessing"
   ]
  },
  {
   "cell_type": "markdown",
   "metadata": {},
   "source": [
    "## Colab integration"
   ]
  },
  {
   "cell_type": "code",
   "execution_count": null,
   "metadata": {},
   "outputs": [],
   "source": [
    "RUNNING_IN_COLAB = False\n",
    "\n",
    "if RUNNING_IN_COLAB:\n",
    "    REPO_URL = 'https://github.com/nicomem/imed-project.git'\n",
    "    REPO_DIR = 'imed-project'\n",
    "    DATA_URL = 'https://drive.google.com/uc?id=1onHHWIhkhN5xYMit0rhhtVXlJrAlzCit'\n",
    "    \n",
    "    from pathlib import Path\n",
    "\n",
    "    %cd /content\n",
    "\n",
    "    # Download the repository\n",
    "    if not Path(REPO_DIR).is_dir():\n",
    "        !git clone {REPO_URL} {REPO_DIR} --depth=1\n",
    "    \n",
    "    %cd {REPO_DIR}\n",
    "\n",
    "    # Install requirements\n",
    "    !pip install -r requirements.txt | grep -v 'Requirement already satisfied'\n",
    "    !pip install gdown | grep -v 'Requirement already satisfied'\n",
    "    \n",
    "    import gdown\n",
    "    if not Path('data.zip').is_file():\n",
    "        gdown.download(DATA_URL, 'data.zip', quiet=False)\n",
    "    \n",
    "    if not Path('data').is_dir():\n",
    "        !unzip data.zip\n",
    "    \n",
    "    %cd notebooks\n",
    "    !ls"
   ]
  },
  {
   "cell_type": "markdown",
   "metadata": {},
   "source": [
    "## Imports"
   ]
  },
  {
   "cell_type": "code",
   "execution_count": null,
   "metadata": {
    "id": "DaxlvhwgeCX-"
   },
   "outputs": [],
   "source": [
    "# 3rd-party imports\n",
    "import numpy as np\n",
    "import nibabel as nib\n",
    "import tensorflow as tf\n",
    "import tensorflow.keras as k\n",
    "import matplotlib.pyplot as plt\n",
    "import keras_unet"
   ]
  },
  {
   "cell_type": "markdown",
   "metadata": {
    "id": "ijoAUa1veCX_"
   },
   "source": [
    "## Get dataset & split train/test"
   ]
  },
  {
   "cell_type": "code",
   "execution_count": null,
   "metadata": {
    "id": "Vgs0mGhDeCX_"
   },
   "outputs": [],
   "source": [
    "from utils.load_data import get_dataset, SlicesSequence, CachedSlicesSequence\n",
    "\n",
    "train_nib, val_nib = get_dataset('../data', verbose=True)"
   ]
  },
  {
   "cell_type": "code",
   "execution_count": null,
   "metadata": {
    "id": "-cKM2KT2eCYA"
   },
   "outputs": [],
   "source": [
    "train_nib.keys()"
   ]
  },
  {
   "cell_type": "code",
   "execution_count": null,
   "metadata": {
    "id": "eADLEVcjeCYA"
   },
   "outputs": [],
   "source": [
    "[len(v) for v in train_nib.values()]"
   ]
  },
  {
   "cell_type": "code",
   "execution_count": null,
   "metadata": {
    "id": "wpPzbk44eCYA"
   },
   "outputs": [],
   "source": [
    "[len(v) for v in val_nib.values()]"
   ]
  },
  {
   "cell_type": "markdown",
   "metadata": {
    "id": "Um7OQh3JeCYB"
   },
   "source": [
    "## Load train & analyze"
   ]
  },
  {
   "cell_type": "code",
   "execution_count": null,
   "metadata": {},
   "outputs": [],
   "source": [
    "batch_size = 32\n",
    "shuffle = True\n",
    "target_height = 256\n",
    "target_width = 256\n",
    "\n",
    "train_seq_uncached = SlicesSequence(train_nib,\n",
    "                                    target_height, target_width, \n",
    "                                    batch_size, shuffle)\n",
    "train_seq = CachedSlicesSequence(train_seq_uncached, batch_size, shuffle)\n",
    "len(train_seq)"
   ]
  },
  {
   "cell_type": "code",
   "execution_count": null,
   "metadata": {
    "id": "uHYQOPyEeCYB"
   },
   "outputs": [],
   "source": [
    "# Different number of slices & X/Y dimensions for inputs & targets\n",
    "x,y = train_seq[0]\n",
    "print(x.shape)\n",
    "print(y.shape)\n",
    "print(x[0,...,0].shape, x[0,...,1].shape, y[0].shape)\n",
    "\n",
    "print('---')\n",
    "\n",
    "x,y = train_seq[-1]\n",
    "print(x.shape)\n",
    "print(y.shape)\n",
    "print(x[0,...,0].shape, x[0,...,1].shape, y[0].shape)"
   ]
  },
  {
   "cell_type": "code",
   "execution_count": null,
   "metadata": {
    "id": "01x2Hc-yeCYC"
   },
   "outputs": [],
   "source": [
    "plt.figure(figsize=(9, 6))\n",
    "i_data = 15\n",
    "\n",
    "x,y = train_seq[0]\n",
    "plt.subplot(2, 3, 1); plt.imshow(x[i_data,...,0])\n",
    "plt.subplot(2, 3, 2); plt.imshow(x[i_data,...,1])\n",
    "plt.subplot(2, 3, 3); plt.imshow(y[i_data])\n",
    "\n",
    "x,y = train_seq[-1]\n",
    "plt.subplot(2, 3, 4); plt.imshow(x[i_data,...,0])\n",
    "plt.subplot(2, 3, 5); plt.imshow(x[i_data,...,1])\n",
    "plt.subplot(2, 3, 6); plt.imshow(y[i_data])"
   ]
  },
  {
   "cell_type": "markdown",
   "metadata": {
    "id": "KGCmLlkKeCYC"
   },
   "source": [
    "## Prepare the model"
   ]
  },
  {
   "cell_type": "code",
   "execution_count": null,
   "metadata": {
    "id": "7iQODM_xeCYD"
   },
   "outputs": [],
   "source": [
    "from keras_unet.models import custom_unet\n",
    "\n",
    "input_shape = (target_height, target_width, 2)\n",
    "\n",
    "model = custom_unet(\n",
    "    input_shape,\n",
    "    num_classes=1,\n",
    "    use_batch_norm=False,\n",
    "    filters=16,\n",
    "    num_layers=4,\n",
    "    dropout=0.3,\n",
    "    output_activation='sigmoid'\n",
    ")\n",
    "model.summary()"
   ]
  },
  {
   "cell_type": "markdown",
   "metadata": {
    "id": "gJs74PmCeCYD"
   },
   "source": [
    "## Train the model"
   ]
  },
  {
   "cell_type": "code",
   "execution_count": null,
   "metadata": {
    "id": "iAMWU1ASeCYD"
   },
   "outputs": [],
   "source": [
    "val_seq_uncached = SlicesSequence(val_nib,\n",
    "                                  target_height, target_width,\n",
    "                                  batch_size, shuffle)\n",
    "val_seq = CachedSlicesSequence(val_seq_uncached, batch_size, shuffle)\n",
    "len(val_seq)"
   ]
  },
  {
   "cell_type": "code",
   "execution_count": null,
   "metadata": {
    "id": "4fVAoFSieCYD"
   },
   "outputs": [],
   "source": [
    "model.compile(\n",
    "    optimizer='adam',\n",
    "    loss='binary_crossentropy'\n",
    ")"
   ]
  },
  {
   "cell_type": "code",
   "execution_count": null,
   "metadata": {
    "id": "CjOK0JuUeCYE"
   },
   "outputs": [],
   "source": [
    "history = model.fit(train_seq, epochs=10, validation_data=val_seq)"
   ]
  },
  {
   "cell_type": "markdown",
   "metadata": {
    "id": "rPcR8dVueCYE"
   },
   "source": [
    "## Check the results"
   ]
  },
  {
   "cell_type": "code",
   "execution_count": null,
   "metadata": {
    "id": "eMiksqmGeCYE"
   },
   "outputs": [],
   "source": [
    "def rolling_average(x, w):\n",
    "    return np.convolve(x, np.ones(w), 'valid') / w\n",
    "\n",
    "ravg_w = 1\n",
    "\n",
    "plt.plot(rolling_average(history['loss'], ravg_w), label=f'{name} (train)')\n",
    "\n",
    "plt.plot(rolling_average(history['val_loss'], ravg_w), label=f'{name} (train)')\n",
    "\n",
    "plt.legend()\n",
    "plt.show()"
   ]
  }
 ],
 "metadata": {
  "colab": {
   "name": "2D-no-prepro.ipynb",
   "provenance": [],
   "toc_visible": true
  },
  "kernelspec": {
   "display_name": "Python 3",
   "language": "python",
   "name": "python3"
  },
  "language_info": {
   "codemirror_mode": {
    "name": "ipython",
    "version": 3
   },
   "file_extension": ".py",
   "mimetype": "text/x-python",
   "name": "python",
   "nbconvert_exporter": "python",
   "pygments_lexer": "ipython3",
   "version": "3.8.6+"
  }
 },
 "nbformat": 4,
 "nbformat_minor": 1
}
