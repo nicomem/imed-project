{
 "cells": [
  {
   "cell_type": "markdown",
   "metadata": {},
   "source": [
    "# 2D model without preprocessing"
   ]
  },
  {
   "cell_type": "code",
   "execution_count": null,
   "metadata": {},
   "outputs": [],
   "source": [
    "# 3rd-party imports\n",
    "import numpy as np\n",
    "import nibabel as nib\n",
    "import tensorflow as tf\n",
    "import tensorflow.keras as k\n",
    "import matplotlib.pyplot as plt"
   ]
  },
  {
   "cell_type": "markdown",
   "metadata": {},
   "source": [
    "## Get dataset & split train/test"
   ]
  },
  {
   "cell_type": "code",
   "execution_count": null,
   "metadata": {},
   "outputs": [],
   "source": [
    "from utils.load_data import get_dataset, load_dataset_nib\n",
    "\n",
    "train_nib, val_nib = get_dataset('../data', verbose=True)"
   ]
  },
  {
   "cell_type": "code",
   "execution_count": null,
   "metadata": {},
   "outputs": [],
   "source": [
    "train_nib.keys()"
   ]
  },
  {
   "cell_type": "code",
   "execution_count": null,
   "metadata": {},
   "outputs": [],
   "source": [
    "[len(v) for v in train_nib.values()]"
   ]
  },
  {
   "cell_type": "code",
   "execution_count": null,
   "metadata": {},
   "outputs": [],
   "source": [
    "[len(v) for v in val_nib.values()]"
   ]
  },
  {
   "cell_type": "markdown",
   "metadata": {},
   "source": [
    "## Load train & analyze"
   ]
  },
  {
   "cell_type": "code",
   "execution_count": null,
   "metadata": {},
   "outputs": [],
   "source": [
    "train_sparse = load_dataset_nib(train_nib, verbose=True)"
   ]
  },
  {
   "cell_type": "code",
   "execution_count": null,
   "metadata": {},
   "outputs": [],
   "source": [
    "get_sample_img = lambda t: train_sparse[t][15][23].toarray()\n",
    "\n",
    "plt.figure(figsize=(10, 10))\n",
    "plt.subplot(2, 2, 1)\n",
    "plt.imshow(get_sample_img('3DT1'))\n",
    "\n",
    "plt.subplot(2, 2, 2)\n",
    "plt.imshow(get_sample_img('T1'))\n",
    "\n",
    "plt.subplot(2, 2, 3)\n",
    "plt.imshow(get_sample_img('FLAIR'))\n",
    "\n",
    "plt.subplot(2, 2, 4)\n",
    "plt.imshow(get_sample_img('wmh'))"
   ]
  },
  {
   "cell_type": "code",
   "execution_count": null,
   "metadata": {},
   "outputs": [],
   "source": [
    "# Different shapes for each data\n",
    "train_sparse['T1'].shape, \\\n",
    "train_sparse['T1'][0].shape, \\\n",
    "train_sparse['T1'][0][0].shape"
   ]
  },
  {
   "cell_type": "code",
   "execution_count": null,
   "metadata": {},
   "outputs": [],
   "source": [
    "train_sparse['T1'].shape, \\\n",
    "train_sparse['T1'][-1].shape, \\\n",
    "train_sparse['T1'][-1][0].shape"
   ]
  },
  {
   "cell_type": "code",
   "execution_count": null,
   "metadata": {},
   "outputs": [],
   "source": [
    "# Need to normalize the inputs\n",
    "train_sparse['T1'][0][0].max(), \\\n",
    "train_sparse['T1'][-1][0].max()"
   ]
  },
  {
   "cell_type": "code",
   "execution_count": null,
   "metadata": {},
   "outputs": [],
   "source": [
    "# Target has 3 labels:\n",
    "# 0: No pathology\n",
    "# 1: Target pathology\n",
    "# 2: Other pathology\n",
    "#\n",
    "# Label 2 is ignored during evaluation\n",
    "# The model should predict labels 0 & 1\n",
    "# and may respond any for label 2\n",
    "#\n",
    "# Before, the labels were transformed like so:\n",
    "# { 0: False, 1: True, 2: True }\n",
    "\n",
    "np.unique(train_sparse['wmh'][15][23].toarray())"
   ]
  },
  {
   "cell_type": "markdown",
   "metadata": {},
   "source": [
    "## Prepare the model"
   ]
  },
  {
   "cell_type": "code",
   "execution_count": null,
   "metadata": {},
   "outputs": [],
   "source": []
  }
 ],
 "metadata": {
  "kernelspec": {
   "display_name": "Python 3",
   "language": "python",
   "name": "python3"
  },
  "language_info": {
   "codemirror_mode": {
    "name": "ipython",
    "version": 3
   },
   "file_extension": ".py",
   "mimetype": "text/x-python",
   "name": "python",
   "nbconvert_exporter": "python",
   "pygments_lexer": "ipython3",
   "version": "3.8.6+"
  }
 },
 "nbformat": 4,
 "nbformat_minor": 4
}
